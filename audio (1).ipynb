{
  "nbformat": 4,
  "nbformat_minor": 0,
  "metadata": {
    "colab": {
      "provenance": []
    },
    "kernelspec": {
      "name": "python3",
      "display_name": "Python 3"
    },
    "language_info": {
      "name": "python"
    }
  },
  "cells": [
    {
      "cell_type": "code",
      "execution_count": null,
      "metadata": {
        "colab": {
          "base_uri": "https://localhost:8080/",
          "height": 36
        },
        "id": "NFR3OX4jBCXk",
        "outputId": "45ea015c-600a-4663-b536-342d1390107c"
      },
      "outputs": [
        {
          "output_type": "execute_result",
          "data": {
            "text/plain": [
              "'/root/.cache/kagglehub/datasets/mdmab0/audio-dataset/v1/some_folder/*.wav'"
            ],
            "application/vnd.google.colaboratory.intrinsic+json": {
              "type": "string"
            }
          },
          "metadata": {},
          "execution_count": 1
        }
      ],
      "source": [
        "'/root/.cache/kagglehub/datasets/mdmab0/audio-dataset/v1/some_folder/*.wav'"
      ]
    },
    {
      "cell_type": "code",
      "source": [
        "from google.colab import drive\n",
        "import os # Import the 'os' module\n",
        "\n",
        "# Check if the directory is already mounted by lookingp for 'MyDrive'\n",
        "if not os.path.exists('/content/drive/MyDrive'):\n",
        "  drive.mount('/content/drive')\n",
        "else:\n",
        "  print(\"Google Drive is already mounted at /content/drive\")"
      ],
      "metadata": {
        "colab": {
          "base_uri": "https://localhost:8080/"
        },
        "id": "N3HTKPpSCQ50",
        "outputId": "d3b29aed-e4a0-447d-a3f2-9f4b568b44d6"
      },
      "execution_count": null,
      "outputs": [
        {
          "output_type": "stream",
          "name": "stdout",
          "text": [
            "Google Drive is already mounted at /content/drive\n"
          ]
        }
      ]
    },
    {
      "cell_type": "code",
      "source": [
        "import shutil\n",
        "import os\n",
        "from pathlib import Path\n",
        "import kagglehub # Importing kagglehub here to define 'path'\n",
        "\n",
        "# Download latest version\n",
        "path = kagglehub.dataset_download(\"mdmab0/audio-dataset\") # Defining 'path' before using it\n",
        "\n",
        "print(\"Path to dataset files:\", path)\n",
        "\n",
        "# Source folder where audio files are stored\n",
        "source_folder = Path(path)\n",
        "\n",
        "# Destination in your Google Drive\n",
        "destination_folder = Path('/content/drive/MyDrive/archive (20)')\n",
        "\n",
        "# Create destination folder if it doesn't exist\n",
        "destination_folder.mkdir(parents=True, exist_ok=True)\n",
        "\n",
        "# Copy .wav files\n",
        "for file in source_folder.rglob(\"*.wav\"):\n",
        "    shutil.copy(file, destination_folder)\n",
        "\n",
        "print(f\"Copied all .wav files to: {destination_folder}\")"
      ],
      "metadata": {
        "colab": {
          "base_uri": "https://localhost:8080/"
        },
        "id": "1rRFEzAIChbQ",
        "outputId": "f022fcb4-ea0f-4c67-c9c2-01f873bab457"
      },
      "execution_count": null,
      "outputs": [
        {
          "output_type": "stream",
          "name": "stdout",
          "text": [
            "Downloading from https://www.kaggle.com/api/v1/datasets/download/mdmab0/audio-dataset?dataset_version_number=6...\n"
          ]
        },
        {
          "output_type": "stream",
          "name": "stderr",
          "text": [
            "100%|██████████| 118M/118M [00:00<00:00, 171MB/s]"
          ]
        },
        {
          "output_type": "stream",
          "name": "stdout",
          "text": [
            "Extracting files...\n"
          ]
        },
        {
          "output_type": "stream",
          "name": "stderr",
          "text": [
            "\n"
          ]
        },
        {
          "output_type": "stream",
          "name": "stdout",
          "text": [
            "Path to dataset files: /root/.cache/kagglehub/datasets/mdmab0/audio-dataset/versions/6\n",
            "Copied all .wav files to: /content/drive/MyDrive/archive (20)\n"
          ]
        }
      ]
    },
    {
      "cell_type": "code",
      "source": [
        "for i, file in enumerate(source_folder.rglob(\"*.wav\")):\n",
        "    new_name = f\"audio_{i:04d}.wav\"\n",
        "    shutil.copy(file, destination_folder / new_name)\n"
      ],
      "metadata": {
        "id": "_DIXqRZSCoHU"
      },
      "execution_count": null,
      "outputs": []
    },
    {
      "cell_type": "code",
      "source": [
        "!pip install librosa matplotlib soundfile\n"
      ],
      "metadata": {
        "colab": {
          "base_uri": "https://localhost:8080/"
        },
        "id": "94j6apS2CxBZ",
        "outputId": "c864ed2f-6dfa-4c4f-b6b2-94a6f00e5999"
      },
      "execution_count": null,
      "outputs": [
        {
          "output_type": "stream",
          "name": "stdout",
          "text": [
            "Requirement already satisfied: librosa in /usr/local/lib/python3.11/dist-packages (0.11.0)\n",
            "Requirement already satisfied: matplotlib in /usr/local/lib/python3.11/dist-packages (3.10.0)\n",
            "Requirement already satisfied: soundfile in /usr/local/lib/python3.11/dist-packages (0.13.1)\n",
            "Requirement already satisfied: audioread>=2.1.9 in /usr/local/lib/python3.11/dist-packages (from librosa) (3.0.1)\n",
            "Requirement already satisfied: numba>=0.51.0 in /usr/local/lib/python3.11/dist-packages (from librosa) (0.60.0)\n",
            "Requirement already satisfied: numpy>=1.22.3 in /usr/local/lib/python3.11/dist-packages (from librosa) (2.0.2)\n",
            "Requirement already satisfied: scipy>=1.6.0 in /usr/local/lib/python3.11/dist-packages (from librosa) (1.14.1)\n",
            "Requirement already satisfied: scikit-learn>=1.1.0 in /usr/local/lib/python3.11/dist-packages (from librosa) (1.6.1)\n",
            "Requirement already satisfied: joblib>=1.0 in /usr/local/lib/python3.11/dist-packages (from librosa) (1.4.2)\n",
            "Requirement already satisfied: decorator>=4.3.0 in /usr/local/lib/python3.11/dist-packages (from librosa) (4.4.2)\n",
            "Requirement already satisfied: pooch>=1.1 in /usr/local/lib/python3.11/dist-packages (from librosa) (1.8.2)\n",
            "Requirement already satisfied: soxr>=0.3.2 in /usr/local/lib/python3.11/dist-packages (from librosa) (0.5.0.post1)\n",
            "Requirement already satisfied: typing_extensions>=4.1.1 in /usr/local/lib/python3.11/dist-packages (from librosa) (4.13.1)\n",
            "Requirement already satisfied: lazy_loader>=0.1 in /usr/local/lib/python3.11/dist-packages (from librosa) (0.4)\n",
            "Requirement already satisfied: msgpack>=1.0 in /usr/local/lib/python3.11/dist-packages (from librosa) (1.1.0)\n",
            "Requirement already satisfied: contourpy>=1.0.1 in /usr/local/lib/python3.11/dist-packages (from matplotlib) (1.3.1)\n",
            "Requirement already satisfied: cycler>=0.10 in /usr/local/lib/python3.11/dist-packages (from matplotlib) (0.12.1)\n",
            "Requirement already satisfied: fonttools>=4.22.0 in /usr/local/lib/python3.11/dist-packages (from matplotlib) (4.57.0)\n",
            "Requirement already satisfied: kiwisolver>=1.3.1 in /usr/local/lib/python3.11/dist-packages (from matplotlib) (1.4.8)\n",
            "Requirement already satisfied: packaging>=20.0 in /usr/local/lib/python3.11/dist-packages (from matplotlib) (24.2)\n",
            "Requirement already satisfied: pillow>=8 in /usr/local/lib/python3.11/dist-packages (from matplotlib) (11.1.0)\n",
            "Requirement already satisfied: pyparsing>=2.3.1 in /usr/local/lib/python3.11/dist-packages (from matplotlib) (3.2.3)\n",
            "Requirement already satisfied: python-dateutil>=2.7 in /usr/local/lib/python3.11/dist-packages (from matplotlib) (2.8.2)\n",
            "Requirement already satisfied: cffi>=1.0 in /usr/local/lib/python3.11/dist-packages (from soundfile) (1.17.1)\n",
            "Requirement already satisfied: pycparser in /usr/local/lib/python3.11/dist-packages (from cffi>=1.0->soundfile) (2.22)\n",
            "Requirement already satisfied: llvmlite<0.44,>=0.43.0dev0 in /usr/local/lib/python3.11/dist-packages (from numba>=0.51.0->librosa) (0.43.0)\n",
            "Requirement already satisfied: platformdirs>=2.5.0 in /usr/local/lib/python3.11/dist-packages (from pooch>=1.1->librosa) (4.3.7)\n",
            "Requirement already satisfied: requests>=2.19.0 in /usr/local/lib/python3.11/dist-packages (from pooch>=1.1->librosa) (2.32.3)\n",
            "Requirement already satisfied: six>=1.5 in /usr/local/lib/python3.11/dist-packages (from python-dateutil>=2.7->matplotlib) (1.17.0)\n",
            "Requirement already satisfied: threadpoolctl>=3.1.0 in /usr/local/lib/python3.11/dist-packages (from scikit-learn>=1.1.0->librosa) (3.6.0)\n",
            "Requirement already satisfied: charset-normalizer<4,>=2 in /usr/local/lib/python3.11/dist-packages (from requests>=2.19.0->pooch>=1.1->librosa) (3.4.1)\n",
            "Requirement already satisfied: idna<4,>=2.5 in /usr/local/lib/python3.11/dist-packages (from requests>=2.19.0->pooch>=1.1->librosa) (3.10)\n",
            "Requirement already satisfied: urllib3<3,>=1.21.1 in /usr/local/lib/python3.11/dist-packages (from requests>=2.19.0->pooch>=1.1->librosa) (2.3.0)\n",
            "Requirement already satisfied: certifi>=2017.4.17 in /usr/local/lib/python3.11/dist-packages (from requests>=2.19.0->pooch>=1.1->librosa) (2025.1.31)\n"
          ]
        }
      ]
    },
    {
      "cell_type": "code",
      "source": [
        "import librosa\n",
        "import librosa.display\n",
        "import matplotlib.pyplot as plt\n",
        "import os\n",
        "from pathlib import Path\n"
      ],
      "metadata": {
        "id": "bAo3KFM7Cxv5"
      },
      "execution_count": null,
      "outputs": []
    },
    {
      "cell_type": "code",
      "source": [
        "from pathlib import Path\n",
        "import librosa\n",
        "import librosa.display\n",
        "import matplotlib.pyplot as plt\n",
        "\n",
        "# Source and destination folders\n",
        "source_folder = Path(\"/content/drive/MyDrive/archive (20)\")\n",
        "output_folder = Path(\"/content/drive/MyDrive/audio_processed\")\n",
        "output_folder.mkdir(parents=True, exist_ok=True)\n",
        "\n",
        "# Function to save waveform, spectrogram, and MFCC\n",
        "def process_audio(file_path, save_folder):\n",
        "    filename = Path(file_path).stem\n",
        "    audio, sr = librosa.load(file_path, sr=None)\n",
        "\n",
        "    # Waveform\n",
        "    plt.figure(figsize=(10, 3))\n",
        "    librosa.display.waveshow(audio, sr=sr)\n",
        "    plt.title(f'Waveform - {filename}')\n",
        "    plt.tight_layout()\n",
        "    plt.savefig(save_folder / f\"{filename}_waveform.png\")\n",
        "    plt.close()\n",
        "\n",
        "    # Spectrogram\n",
        "    spec = librosa.stft(audio)\n",
        "    spec_db = librosa.amplitude_to_db(abs(spec))\n",
        "    plt.figure(figsize=(10, 4))\n",
        "    librosa.display.specshow(spec_db, sr=sr, x_axis='time', y_axis='hz')\n",
        "    plt.colorbar(format='%+2.0f dB')\n",
        "    plt.title(f'Spectrogram - {filename}')\n",
        "    plt.tight_layout()\n",
        "    plt.savefig(save_folder / f\"{filename}_spectrogram.png\")\n",
        "    plt.close()\n",
        "\n",
        "    # MFCC\n",
        "    mfcc = librosa.feature.mfcc(y=audio, sr=sr, n_mfcc=13)\n",
        "    plt.figure(figsize=(10, 4))\n",
        "    librosa.display.specshow(mfcc, x_axis='time')\n",
        "    plt.colorbar()\n",
        "    plt.title(f'MFCC - {filename}')\n",
        "    plt.tight_layout()\n",
        "    plt.savefig(save_folder / f\"{filename}_mfcc.png\")\n",
        "    plt.close()\n",
        "\n",
        "    print(f\"Processed: {filename}\")\n",
        "\n",
        "# Limit to 500 files\n",
        "max_files = 200\n",
        "count = 0\n",
        "\n",
        "for wav_file in source_folder.rglob(\"*.wav\"):\n",
        "    if count >= max_files:\n",
        "        break\n",
        "    process_audio(wav_file, output_folder)\n",
        "    count += 1\n",
        "\n",
        "print(f\"✅ Processed {count} audio files and saved results.\")\n"
      ],
      "metadata": {
        "colab": {
          "base_uri": "https://localhost:8080/"
        },
        "id": "kBCTSoJmC1Wc",
        "outputId": "792c833d-e319-4c5d-d9b8-df9bab3b2858"
      },
      "execution_count": null,
      "outputs": [
        {
          "output_type": "stream",
          "name": "stdout",
          "text": [
            "Processed: not_hs_phrase_30_f\n",
            "Processed: hs_audio_11_2\n",
            "Processed: hs_audio_5_24\n",
            "Processed: not_hs_phrase_241_f\n",
            "Processed: not_hs_phrase_234_f\n",
            "Processed: hs_audio_word_16_6_f\n",
            "Processed: hs_audio_9_4\n",
            "Processed: not_hs_phrase_545\n",
            "Processed: not_hs_phrase_62\n",
            "Processed: hs_audio_14_8\n",
            "Processed: hs_audio_5_19\n",
            "Processed: not_hs_phrase_45\n",
            "Processed: not_hs_phrase_181\n",
            "Processed: not_hs_phrase_202\n",
            "Processed: hs_audio_5_23\n",
            "Processed: hs_audio_11_5_f\n",
            "Processed: not_hs_phrase_37_f\n",
            "Processed: hs_audio_9_3\n",
            "Processed: not_hs_phrase_131_f\n",
            "Processed: hs_audio_word_16_3\n",
            "Processed: hs_audio_word_27_3_f\n",
            "Processed: not_hs_phrase_276\n",
            "Processed: not_hs_phrase_505\n",
            "Processed: not_hs_phrase_340_f\n",
            "Processed: hs_audio_word_24_5\n",
            "Processed: hs_audio_word_24_27_f\n",
            "Processed: hs_audio_15_12_f\n",
            "Processed: hs_audio_word_23_12\n",
            "Processed: not_hs_phrase_452\n",
            "Processed: hs_audio_word_31_7_f\n",
            "Processed: hs_audio_word_31_9\n",
            "Processed: not_hs_audio_8_6\n",
            "Processed: not_hs_phrase_586_f\n",
            "Processed: not_hs_phrase_325\n",
            "Processed: hs_audio_9_8\n",
            "Processed: not_hs_phrase_359_f\n",
            "Processed: not_hs_phrase_321\n",
            "Processed: not_hs_phrase_342_f\n",
            "Processed: hs_audio_word_28_23\n",
            "Processed: hs_audio_15_25_f\n",
            "Processed: not_hs_phrase_421\n",
            "Processed: not_hs_phrase_90\n",
            "Processed: not_hs_phrase_474\n",
            "Processed: hs_audio_15_14_f\n",
            "Processed: not_hs_phrase_300\n",
            "Processed: not_hs_phrase_12\n",
            "Processed: not_hs_phrase_392_f\n",
            "Processed: not_hs_phrase_415\n",
            "Processed: not_hs_phrase_182\n",
            "Processed: hs_audio_13_1\n",
            "Processed: not_hs_phrase_253\n",
            "Processed: not_hs_phrase_285_f\n",
            "Processed: hs_audio_word_26_18\n",
            "Processed: not_hs_phrase_448\n",
            "Processed: hs_audio_word_30_9\n",
            "Processed: not_hs_phrase_129_f\n",
            "Processed: hs_audio_word_18_4_f\n",
            "Processed: not_hs_phrase_142\n",
            "Processed: hs_audio_word_25_6_f\n",
            "Processed: hs_audio_5_11\n",
            "Processed: not_hs_phrase_71\n",
            "Processed: hs_audio_11_21_f\n",
            "Processed: hs_audio_word_16_1\n",
            "Processed: not_hs_phrase_386_f\n",
            "Processed: not_hs_audio_8_28\n",
            "Processed: hs_audio_word_25_1\n",
            "Processed: hs_audio_word_2_2_f\n",
            "Processed: not_hs_phrase_163_f\n",
            "Processed: not_hs_phrase_456\n",
            "Processed: hs_audio_word_26_17\n",
            "Processed: hs_audio_word_20_8\n",
            "Processed: not_hs_phrase_77_f\n",
            "Processed: hs_audio_word_6_4_f\n",
            "Processed: not_hs_phrase_485\n",
            "Processed: hs_audio_word_23_3_f\n",
            "Processed: not_hs_phrase_366\n",
            "Processed: hs_audio_5_51\n",
            "Processed: hs_audio_word_22_12\n",
            "Processed: hs_audio_word_27_9\n",
            "Processed: not_hs_phrase_339_f\n",
            "Processed: hs_audio_word_21_1\n",
            "Processed: not_hs_phrase_535\n",
            "Processed: hs_audio_word_27_7\n",
            "Processed: not_hs_phrase_290\n",
            "Processed: hs_audio_word_24_13_f\n",
            "Processed: not_hs_phrase_8_f\n",
            "Processed: not_hs_phrase_441\n",
            "Processed: hs_audio_5_32\n",
            "Processed: not_hs_phrase_568\n",
            "Processed: not_hs_phrase_564\n",
            "Processed: hs_audio_word_3_4_f\n",
            "Processed: not_hs_phrase_271_f\n",
            "Processed: not_hs_phrase_214\n",
            "Processed: not_hs_phrase_295\n",
            "Processed: not_hs_phrase_469\n",
            "Processed: not_hs_phrase_149\n",
            "Processed: hs_audio_word_15_9_f\n",
            "Processed: not_hs_phrase_518\n",
            "Processed: hs_audio_word_30_5_f\n",
            "Processed: hs_audio_word_23_5_f\n",
            "Processed: hs_audio_word_28_2_f\n",
            "Processed: hs_audio_word_10_8\n",
            "Processed: not_hs_phrase_190\n",
            "Processed: not_hs_phrase_176_f\n",
            "Processed: not_hs_audio_8_10\n",
            "Processed: not_hs_phrase_222\n",
            "Processed: hs_audio_word_26_13\n",
            "Processed: hs_audio_4_4\n",
            "Processed: not_hs_phrase_434_f\n",
            "Processed: hs_audio_word_9_9_f\n",
            "Processed: hs_audio_5_27\n",
            "Processed: not_hs_phrase_74_f\n",
            "Processed: not_hs_phrase_464\n",
            "Processed: hs_audio_2_1\n",
            "Processed: hs_audio_word_31_12_f\n",
            "Processed: not_hs_phrase_164_f\n",
            "Processed: hs_audio_word_27_2\n",
            "Processed: not_hs_phrase_385_f\n",
            "Processed: hs_audio_15_27_f\n",
            "Processed: hs_audio_word_31_15_f\n",
            "Processed: not_hs_phrase_144_f\n",
            "Processed: not_hs_phrase_451\n",
            "Processed: not_hs_phrase_520\n",
            "Processed: not_hs_phrase_4_f\n",
            "Processed: not_hs_audio_8_33\n",
            "Processed: not_hs_phrase_121_f\n",
            "Processed: not_hs_phrase_320\n",
            "Processed: hs_audio_word_9_4_f\n",
            "Processed: not_hs_phrase_317_f\n",
            "Processed: not_hs_phrase_481_f\n",
            "Processed: not_hs_phrase_399\n",
            "Processed: hs_audio_word_12_4\n",
            "Processed: hs_audio_word_31_4_f\n",
            "Processed: hs_audio_word_29_1\n",
            "Processed: not_hs_phrase_238\n",
            "Processed: not_hs_phrase_141_f\n",
            "Processed: not_hs_phrase_2\n",
            "Processed: hs_audio_5_28\n",
            "Processed: not_hs_phrase_588_f\n",
            "Processed: hs_audio_14_21\n",
            "Processed: hs_audio_word_32_11\n",
            "Processed: hs_audio_word_22_4_f\n",
            "Processed: hs_audio_15_7_f\n",
            "Processed: hs_audio_5_3\n",
            "Processed: not_hs_phrase_551_f\n",
            "Processed: hs_audio_4_5\n",
            "Processed: not_hs_phrase_332\n",
            "Processed: hs_audio_5_37\n",
            "Processed: hs_audio_13_2\n",
            "Processed: hs_audio_15_15_f\n",
            "Processed: not_hs_phrase_455\n",
            "Processed: not_hs_phrase_263_f\n",
            "Processed: hs_audio_14_14\n",
            "Processed: not_hs_phrase_227_f\n",
            "Processed: hs_audio_word_28_14\n",
            "Processed: hs_audio_word_13_13\n",
            "Processed: not_hs_phrase_549\n",
            "Processed: hs_audio_word_29_5_f\n",
            "Processed: not_hs_phrase_174\n",
            "Processed: hs_audio_word_12_2_f\n",
            "Processed: hs_audio_word_30_14_f\n",
            "Processed: not_hs_phrase_418_f\n",
            "Processed: not_hs_audio_8_30\n",
            "Processed: not_hs_phrase_498\n",
            "Processed: not_hs_audio_4_1\n",
            "Processed: hs_audio_word_28_22_f\n",
            "Processed: not_hs_phrase_22_f\n",
            "Processed: not_hs_phrase_462_f\n",
            "Processed: not_hs_phrase_524_f\n",
            "Processed: hs_audio_word_11_3\n",
            "Processed: not_hs_phrase_305\n",
            "Processed: not_hs_phrase_154\n",
            "Processed: not_hs_phrase_303_f\n",
            "Processed: hs_audio_word_13_11\n",
            "Processed: not_hs_phrase_507\n",
            "Processed: not_hs_phrase_352\n",
            "Processed: not_hs_phrase_403_f\n",
            "Processed: hs_audio_9_7\n",
            "Processed: not_hs_phrase_61\n",
            "Processed: not_hs_phrase_442\n",
            "Processed: hs_audio_word_23_9\n",
            "Processed: not_hs_phrase_54_f\n",
            "Processed: not_hs_phrase_585\n",
            "Processed: hs_audio_15_16_f\n",
            "Processed: not_hs_phrase_260\n",
            "Processed: not_hs_phrase_145\n",
            "Processed: hs_audio_14_2\n",
            "Processed: not_hs_phrase_119\n",
            "Processed: hs_audio_word_15_2\n",
            "Processed: hs_audio_word_20_9_f\n",
            "Processed: hs_audio_word_1_8\n",
            "Processed: not_hs_phrase_198_f\n",
            "Processed: not_hs_phrase_534\n",
            "Processed: not_hs_phrase_26\n",
            "Processed: hs_audio_word_15_7\n",
            "Processed: not_hs_phrase_205\n",
            "Processed: not_hs_phrase_289_f\n",
            "Processed: hs_audio_word_19_1\n",
            "Processed: hs_audio_11_22_f\n",
            "Processed: hs_audio_4_12\n",
            "✅ Processed 200 audio files and saved results.\n"
          ]
        }
      ]
    },
    {
      "cell_type": "code",
      "source": [
        "from pathlib import Path\n",
        "import librosa\n",
        "import numpy as np\n",
        "\n",
        "data_path = Path(\"/content/drive/MyDrive/archive (20)\")\n",
        "all_files = list(data_path.glob(\"*.wav\"))[:200]  # Limit to 200 for training\n",
        "\n",
        "X = []\n",
        "y = []\n",
        "\n",
        "max_len = 100\n",
        "n_mfcc = 40\n",
        "\n",
        "for file_path in all_files:\n",
        "    audio, sr = librosa.load(file_path, sr=None)\n",
        "    mfcc = librosa.feature.mfcc(y=audio, sr=sr, n_mfcc=n_mfcc).T\n",
        "\n",
        "    if mfcc.shape[0] >= max_len:\n",
        "        mfcc = mfcc[:max_len]\n",
        "    else:\n",
        "        pad = max_len - mfcc.shape[0]\n",
        "        mfcc = np.pad(mfcc, ((0, pad), (0, 0)), mode='constant')\n",
        "\n",
        "    X.append(mfcc)\n",
        "    y.append(0)  # Default label (binary or dummy for now)\n",
        "\n",
        "X = np.array(X)\n",
        "y = np.array(y)\n",
        "\n",
        "print(\"✅ Loaded MFCC features from\", len(X), \"files\")\n",
        "print(\"X shape:\", X.shape, \"| y shape:\", y.shape)\n"
      ],
      "metadata": {
        "colab": {
          "base_uri": "https://localhost:8080/"
        },
        "id": "ZomXdkn4C8I0",
        "outputId": "5bf8d76e-a592-4ff7-cdd8-4e60c13cdf43"
      },
      "execution_count": null,
      "outputs": [
        {
          "output_type": "stream",
          "name": "stdout",
          "text": [
            "✅ Loaded MFCC features from 200 files\n",
            "X shape: (200, 100, 40) | y shape: (200,)\n"
          ]
        }
      ]
    },
    {
      "cell_type": "code",
      "source": [
        "from sklearn.model_selection import train_test_split\n",
        "from tensorflow.keras.models import Sequential\n",
        "from tensorflow.keras.layers import LSTM, Dense, Dropout, Masking\n",
        "from tensorflow.keras.utils import to_categorical\n",
        "\n",
        "# 1. Split data into train and test sets\n",
        "X_train, X_test, y_train, y_test = train_test_split(X, y, test_size=0.2, random_state=42)\n",
        "\n",
        "# Reshape input to match LSTM [samples, time steps, features]\n",
        "# Already in (samples, 100, 40)\n",
        "\n",
        "# 2. Build the LSTM model\n",
        "model = Sequential([\n",
        "    Masking(mask_value=0.0, input_shape=(X.shape[1], X.shape[2])),  # Mask padded time steps\n",
        "    LSTM(128, return_sequences=True),\n",
        "    Dropout(0.3),\n",
        "    LSTM(64),\n",
        "    Dropout(0.3),\n",
        "    Dense(32, activation='relu'),\n",
        "    Dense(1, activation='sigmoid')  # Binary classification\n",
        "])\n",
        "\n",
        "# 3. Compile the model\n",
        "model.compile(loss='binary_crossentropy', optimizer='adam', metrics=['accuracy'])\n",
        "\n",
        "# 4. Train the model\n",
        "history = model.fit(X_train, y_train, epochs=15, batch_size=16,\n",
        "                    validation_data=(X_test, y_test), verbose=1)\n",
        "\n",
        "# 5. Evaluate the model\n",
        "loss, acc = model.evaluate(X_test, y_test)\n",
        "print(f\"\\n✅ Test Accuracy: {acc:.4f} | Test Loss: {loss:.4f}\")\n"
      ],
      "metadata": {
        "colab": {
          "base_uri": "https://localhost:8080/"
        },
        "id": "m5EVp4GIDBOI",
        "outputId": "a23e6f55-6ca3-4c2b-8bb7-489261761340"
      },
      "execution_count": null,
      "outputs": [
        {
          "output_type": "stream",
          "name": "stderr",
          "text": [
            "/usr/local/lib/python3.11/dist-packages/keras/src/layers/core/masking.py:47: UserWarning: Do not pass an `input_shape`/`input_dim` argument to a layer. When using Sequential models, prefer using an `Input(shape)` object as the first layer in the model instead.\n",
            "  super().__init__(**kwargs)\n"
          ]
        },
        {
          "output_type": "stream",
          "name": "stdout",
          "text": [
            "Epoch 1/15\n",
            "\u001b[1m10/10\u001b[0m \u001b[32m━━━━━━━━━━━━━━━━━━━━\u001b[0m\u001b[37m\u001b[0m \u001b[1m13s\u001b[0m 278ms/step - accuracy: 0.9484 - loss: 0.3510 - val_accuracy: 1.0000 - val_loss: 0.0307\n",
            "Epoch 2/15\n",
            "\u001b[1m10/10\u001b[0m \u001b[32m━━━━━━━━━━━━━━━━━━━━\u001b[0m\u001b[37m\u001b[0m \u001b[1m4s\u001b[0m 137ms/step - accuracy: 1.0000 - loss: 0.0229 - val_accuracy: 1.0000 - val_loss: 0.0029\n",
            "Epoch 3/15\n",
            "\u001b[1m10/10\u001b[0m \u001b[32m━━━━━━━━━━━━━━━━━━━━\u001b[0m\u001b[37m\u001b[0m \u001b[1m1s\u001b[0m 143ms/step - accuracy: 1.0000 - loss: 0.0031 - val_accuracy: 1.0000 - val_loss: 8.1158e-04\n",
            "Epoch 4/15\n",
            "\u001b[1m10/10\u001b[0m \u001b[32m━━━━━━━━━━━━━━━━━━━━\u001b[0m\u001b[37m\u001b[0m \u001b[1m1s\u001b[0m 132ms/step - accuracy: 1.0000 - loss: 9.0565e-04 - val_accuracy: 1.0000 - val_loss: 4.2659e-04\n",
            "Epoch 5/15\n",
            "\u001b[1m10/10\u001b[0m \u001b[32m━━━━━━━━━━━━━━━━━━━━\u001b[0m\u001b[37m\u001b[0m \u001b[1m1s\u001b[0m 137ms/step - accuracy: 1.0000 - loss: 5.6161e-04 - val_accuracy: 1.0000 - val_loss: 2.9863e-04\n",
            "Epoch 6/15\n",
            "\u001b[1m10/10\u001b[0m \u001b[32m━━━━━━━━━━━━━━━━━━━━\u001b[0m\u001b[37m\u001b[0m \u001b[1m3s\u001b[0m 139ms/step - accuracy: 1.0000 - loss: 3.9945e-04 - val_accuracy: 1.0000 - val_loss: 2.3955e-04\n",
            "Epoch 7/15\n",
            "\u001b[1m10/10\u001b[0m \u001b[32m━━━━━━━━━━━━━━━━━━━━\u001b[0m\u001b[37m\u001b[0m \u001b[1m4s\u001b[0m 239ms/step - accuracy: 1.0000 - loss: 3.6689e-04 - val_accuracy: 1.0000 - val_loss: 2.0401e-04\n",
            "Epoch 8/15\n",
            "\u001b[1m10/10\u001b[0m \u001b[32m━━━━━━━━━━━━━━━━━━━━\u001b[0m\u001b[37m\u001b[0m \u001b[1m2s\u001b[0m 199ms/step - accuracy: 1.0000 - loss: 2.4879e-04 - val_accuracy: 1.0000 - val_loss: 1.8014e-04\n",
            "Epoch 9/15\n",
            "\u001b[1m10/10\u001b[0m \u001b[32m━━━━━━━━━━━━━━━━━━━━\u001b[0m\u001b[37m\u001b[0m \u001b[1m2s\u001b[0m 152ms/step - accuracy: 1.0000 - loss: 2.2626e-04 - val_accuracy: 1.0000 - val_loss: 1.6163e-04\n",
            "Epoch 10/15\n",
            "\u001b[1m10/10\u001b[0m \u001b[32m━━━━━━━━━━━━━━━━━━━━\u001b[0m\u001b[37m\u001b[0m \u001b[1m2s\u001b[0m 158ms/step - accuracy: 1.0000 - loss: 3.1862e-04 - val_accuracy: 1.0000 - val_loss: 1.4446e-04\n",
            "Epoch 11/15\n",
            "\u001b[1m10/10\u001b[0m \u001b[32m━━━━━━━━━━━━━━━━━━━━\u001b[0m\u001b[37m\u001b[0m \u001b[1m3s\u001b[0m 159ms/step - accuracy: 1.0000 - loss: 2.3822e-04 - val_accuracy: 1.0000 - val_loss: 1.2973e-04\n",
            "Epoch 12/15\n",
            "\u001b[1m10/10\u001b[0m \u001b[32m━━━━━━━━━━━━━━━━━━━━\u001b[0m\u001b[37m\u001b[0m \u001b[1m1s\u001b[0m 146ms/step - accuracy: 1.0000 - loss: 2.2014e-04 - val_accuracy: 1.0000 - val_loss: 1.1599e-04\n",
            "Epoch 13/15\n",
            "\u001b[1m10/10\u001b[0m \u001b[32m━━━━━━━━━━━━━━━━━━━━\u001b[0m\u001b[37m\u001b[0m \u001b[1m3s\u001b[0m 181ms/step - accuracy: 1.0000 - loss: 1.5823e-04 - val_accuracy: 1.0000 - val_loss: 1.0450e-04\n",
            "Epoch 14/15\n",
            "\u001b[1m10/10\u001b[0m \u001b[32m━━━━━━━━━━━━━━━━━━━━\u001b[0m\u001b[37m\u001b[0m \u001b[1m2s\u001b[0m 225ms/step - accuracy: 1.0000 - loss: 1.9165e-04 - val_accuracy: 1.0000 - val_loss: 9.4195e-05\n",
            "Epoch 15/15\n",
            "\u001b[1m10/10\u001b[0m \u001b[32m━━━━━━━━━━━━━━━━━━━━\u001b[0m\u001b[37m\u001b[0m \u001b[1m2s\u001b[0m 164ms/step - accuracy: 1.0000 - loss: 1.5245e-04 - val_accuracy: 1.0000 - val_loss: 8.4934e-05\n",
            "\u001b[1m2/2\u001b[0m \u001b[32m━━━━━━━━━━━━━━━━━━━━\u001b[0m\u001b[37m\u001b[0m \u001b[1m0s\u001b[0m 59ms/step - accuracy: 1.0000 - loss: 8.5461e-05\n",
            "\n",
            "✅ Test Accuracy: 1.0000 | Test Loss: 0.0001\n"
          ]
        }
      ]
    },
    {
      "cell_type": "code",
      "source": [
        "from sklearn.metrics import classification_report, confusion_matrix\n",
        "import numpy as np\n",
        "\n",
        "# Predict probabilities\n",
        "y_pred_probs = model.predict(X_test)\n",
        "# Convert probabilities to binary class labels (threshold = 0.5)\n",
        "y_pred = (y_pred_probs > 0.5).astype(int)\n",
        "\n",
        "# Flatten arrays\n",
        "y_pred = y_pred.flatten()\n",
        "y_test = y_test.flatten()\n",
        "\n",
        "# Print classification report\n",
        "print(\"\\n📊 Classification Report:\")\n",
        "print(classification_report(y_test, y_pred, digits=4))\n",
        "\n",
        "# Print confusion matrix\n",
        "print(\"🧩 Confusion Matrix:\")\n",
        "print(confusion_matrix(y_test, y_pred))\n"
      ],
      "metadata": {
        "colab": {
          "base_uri": "https://localhost:8080/"
        },
        "id": "yMx6hYAbDCVN",
        "outputId": "55b2d850-6806-4fba-f111-c565dd6dcaa4"
      },
      "execution_count": null,
      "outputs": [
        {
          "output_type": "stream",
          "name": "stdout",
          "text": [
            "\u001b[1m2/2\u001b[0m \u001b[32m━━━━━━━━━━━━━━━━━━━━\u001b[0m\u001b[37m\u001b[0m \u001b[1m1s\u001b[0m 682ms/step\n",
            "\n",
            "📊 Classification Report:\n",
            "              precision    recall  f1-score   support\n",
            "\n",
            "           0     1.0000    1.0000    1.0000        40\n",
            "\n",
            "    accuracy                         1.0000        40\n",
            "   macro avg     1.0000    1.0000    1.0000        40\n",
            "weighted avg     1.0000    1.0000    1.0000        40\n",
            "\n",
            "🧩 Confusion Matrix:\n",
            "[[40]]\n"
          ]
        },
        {
          "output_type": "stream",
          "name": "stderr",
          "text": [
            "/usr/local/lib/python3.11/dist-packages/sklearn/metrics/_classification.py:407: UserWarning: A single label was found in 'y_true' and 'y_pred'. For the confusion matrix to have the correct shape, use the 'labels' parameter to pass all known labels.\n",
            "  warnings.warn(\n"
          ]
        }
      ]
    },
    {
      "cell_type": "code",
      "source": [
        "import numpy as np\n",
        "from pathlib import Path\n",
        "import librosa\n",
        "from sklearn.model_selection import StratifiedKFold\n",
        "from sklearn.metrics import classification_report, confusion_matrix\n",
        "from tensorflow.keras.models import Sequential\n",
        "from tensorflow.keras.layers import LSTM, Dense, Dropout, Masking\n",
        "import tensorflow as tf\n",
        "\n",
        "# Step 1: Load MFCC features\n",
        "data_path = Path(\"/content/drive/MyDrive/archive (20)\")\n",
        "all_files = list(data_path.glob(\"*.wav\"))[:200]  # Limit to 200 files\n",
        "\n",
        "X = []\n",
        "y = []\n",
        "\n",
        "max_len = 100\n",
        "n_mfcc = 40\n",
        "\n",
        "for file_path in all_files:\n",
        "    audio, sr = librosa.load(file_path, sr=None)\n",
        "    mfcc = librosa.feature.mfcc(y=audio, sr=sr, n_mfcc=n_mfcc).T\n",
        "\n",
        "    if mfcc.shape[0] >= max_len:\n",
        "        mfcc = mfcc[:max_len]\n",
        "    else:\n",
        "        pad = max_len - mfcc.shape[0]\n",
        "        mfcc = np.pad(mfcc, ((0, pad), (0, 0)), mode='constant')\n",
        "\n",
        "    X.append(mfcc)\n",
        "    y.append(0 if '0' in file_path.stem else 1)  # Example label logic\n",
        "\n",
        "X = np.array(X)\n",
        "y = np.array(y)\n",
        "\n",
        "print(f\"✅ Loaded MFCCs: {X.shape}, Labels: {np.unique(y, return_counts=True)}\")\n",
        "\n",
        "# Step 2: K-Fold Cross Validation\n",
        "kf = StratifiedKFold(n_splits=5, shuffle=True, random_state=42)\n",
        "all_reports = []\n",
        "\n",
        "for fold, (train_idx, val_idx) in enumerate(kf.split(X, y)):\n",
        "    print(f\"\\n📂 Fold {fold + 1}/5\")\n",
        "\n",
        "    X_train, X_val = X[train_idx], X[val_idx]\n",
        "    y_train, y_val = y[train_idx], y[val_idx]\n",
        "\n",
        "    model = Sequential([\n",
        "        Masking(mask_value=0.0, input_shape=(X.shape[1], X.shape[2])),\n",
        "        LSTM(128, return_sequences=True),\n",
        "        Dropout(0.3),\n",
        "        LSTM(64),\n",
        "        Dropout(0.3),\n",
        "        Dense(32, activation='relu'),\n",
        "        Dense(1, activation='sigmoid')\n",
        "    ])\n",
        "\n",
        "    model.compile(loss='binary_crossentropy', optimizer='adam', metrics=['accuracy'])\n",
        "\n",
        "    # Train the model\n",
        "    model.fit(X_train, y_train, epochs=10, batch_size=16, verbose=0)\n",
        "\n",
        "    # Predict\n",
        "    y_pred_probs = model.predict(X_val)\n",
        "    y_pred = (y_pred_probs > 0.5).astype(int).flatten()\n",
        "\n",
        "    # Evaluation\n",
        "    print(\"Confusion Matrix:\")\n",
        "    print(confusion_matrix(y_val, y_pred))\n",
        "\n",
        "    report = classification_report(y_val, y_pred, digits=4, output_dict=True)\n",
        "    all_reports.append(report)\n",
        "\n",
        "    print(\"Classification Report:\")\n",
        "    print(classification_report(y_val, y_pred, digits=4))\n",
        "\n",
        "# Step 3: Average Metrics\n",
        "avg_acc = np.mean([r.get('accuracy', 0) for r in all_reports])\n",
        "avg_prec_0 = np.mean([r.get('0', {}).get('precision', 0) for r in all_reports])\n",
        "avg_prec_1 = np.mean([r.get('1', {}).get('precision', 0) for r in all_reports])\n",
        "avg_recall_0 = np.mean([r.get('0', {}).get('recall', 0) for r in all_reports])\n",
        "avg_recall_1 = np.mean([r.get('1', {}).get('recall', 0) for r in all_reports])\n",
        "\n",
        "print(\"\\n📊 Average Scores Across Folds:\")\n",
        "print(f\"Avg Accuracy       : {avg_acc:.4f}\")\n",
        "print(f\"Avg Precision [0/1]: {avg_prec_0:.4f} / {avg_prec_1:.4f}\")\n",
        "print(f\"Avg Recall    [0/1]: {avg_recall_0:.4f} / {avg_recall_1:.4f}\")\n"
      ],
      "metadata": {
        "colab": {
          "base_uri": "https://localhost:8080/"
        },
        "id": "oh5THOZ9DEuX",
        "outputId": "de9f6cc2-dbb3-4c45-e365-9014428ee1ca"
      },
      "execution_count": null,
      "outputs": [
        {
          "output_type": "stream",
          "name": "stdout",
          "text": [
            "✅ Loaded MFCCs: (200, 100, 40), Labels: (array([0, 1]), array([ 24, 176]))\n",
            "\n",
            "📂 Fold 1/5\n"
          ]
        },
        {
          "output_type": "stream",
          "name": "stderr",
          "text": [
            "/usr/local/lib/python3.11/dist-packages/keras/src/layers/core/masking.py:47: UserWarning: Do not pass an `input_shape`/`input_dim` argument to a layer. When using Sequential models, prefer using an `Input(shape)` object as the first layer in the model instead.\n",
            "  super().__init__(**kwargs)\n"
          ]
        },
        {
          "output_type": "stream",
          "name": "stdout",
          "text": [
            "\u001b[1m2/2\u001b[0m \u001b[32m━━━━━━━━━━━━━━━━━━━━\u001b[0m\u001b[37m\u001b[0m \u001b[1m1s\u001b[0m 432ms/step\n",
            "Confusion Matrix:\n",
            "[[ 1  4]\n",
            " [ 4 31]]\n",
            "Classification Report:\n",
            "              precision    recall  f1-score   support\n",
            "\n",
            "           0     0.2000    0.2000    0.2000         5\n",
            "           1     0.8857    0.8857    0.8857        35\n",
            "\n",
            "    accuracy                         0.8000        40\n",
            "   macro avg     0.5429    0.5429    0.5429        40\n",
            "weighted avg     0.8000    0.8000    0.8000        40\n",
            "\n",
            "\n",
            "📂 Fold 2/5\n"
          ]
        },
        {
          "output_type": "stream",
          "name": "stderr",
          "text": [
            "/usr/local/lib/python3.11/dist-packages/keras/src/layers/core/masking.py:47: UserWarning: Do not pass an `input_shape`/`input_dim` argument to a layer. When using Sequential models, prefer using an `Input(shape)` object as the first layer in the model instead.\n",
            "  super().__init__(**kwargs)\n"
          ]
        },
        {
          "output_type": "stream",
          "name": "stdout",
          "text": [
            "\u001b[1m2/2\u001b[0m \u001b[32m━━━━━━━━━━━━━━━━━━━━\u001b[0m\u001b[37m\u001b[0m \u001b[1m1s\u001b[0m 432ms/step\n",
            "Confusion Matrix:\n",
            "[[ 1  4]\n",
            " [ 5 30]]\n",
            "Classification Report:\n",
            "              precision    recall  f1-score   support\n",
            "\n",
            "           0     0.1667    0.2000    0.1818         5\n",
            "           1     0.8824    0.8571    0.8696        35\n",
            "\n",
            "    accuracy                         0.7750        40\n",
            "   macro avg     0.5245    0.5286    0.5257        40\n",
            "weighted avg     0.7929    0.7750    0.7836        40\n",
            "\n",
            "\n",
            "📂 Fold 3/5\n"
          ]
        },
        {
          "output_type": "stream",
          "name": "stderr",
          "text": [
            "/usr/local/lib/python3.11/dist-packages/keras/src/layers/core/masking.py:47: UserWarning: Do not pass an `input_shape`/`input_dim` argument to a layer. When using Sequential models, prefer using an `Input(shape)` object as the first layer in the model instead.\n",
            "  super().__init__(**kwargs)\n"
          ]
        },
        {
          "output_type": "stream",
          "name": "stdout",
          "text": [
            "\u001b[1m2/2\u001b[0m \u001b[32m━━━━━━━━━━━━━━━━━━━━\u001b[0m\u001b[37m\u001b[0m \u001b[1m1s\u001b[0m 468ms/step\n",
            "Confusion Matrix:\n",
            "[[ 0  5]\n",
            " [ 4 31]]\n",
            "Classification Report:\n",
            "              precision    recall  f1-score   support\n",
            "\n",
            "           0     0.0000    0.0000    0.0000         5\n",
            "           1     0.8611    0.8857    0.8732        35\n",
            "\n",
            "    accuracy                         0.7750        40\n",
            "   macro avg     0.4306    0.4429    0.4366        40\n",
            "weighted avg     0.7535    0.7750    0.7641        40\n",
            "\n",
            "\n",
            "📂 Fold 4/5\n"
          ]
        },
        {
          "output_type": "stream",
          "name": "stderr",
          "text": [
            "/usr/local/lib/python3.11/dist-packages/keras/src/layers/core/masking.py:47: UserWarning: Do not pass an `input_shape`/`input_dim` argument to a layer. When using Sequential models, prefer using an `Input(shape)` object as the first layer in the model instead.\n",
            "  super().__init__(**kwargs)\n"
          ]
        },
        {
          "output_type": "stream",
          "name": "stdout",
          "text": [
            "\u001b[1m2/2\u001b[0m \u001b[32m━━━━━━━━━━━━━━━━━━━━\u001b[0m\u001b[37m\u001b[0m \u001b[1m1s\u001b[0m 451ms/step\n",
            "Confusion Matrix:\n",
            "[[ 1  4]\n",
            " [ 7 28]]\n",
            "Classification Report:\n",
            "              precision    recall  f1-score   support\n",
            "\n",
            "           0     0.1250    0.2000    0.1538         5\n",
            "           1     0.8750    0.8000    0.8358        35\n",
            "\n",
            "    accuracy                         0.7250        40\n",
            "   macro avg     0.5000    0.5000    0.4948        40\n",
            "weighted avg     0.7812    0.7250    0.7506        40\n",
            "\n",
            "\n",
            "📂 Fold 5/5\n"
          ]
        },
        {
          "output_type": "stream",
          "name": "stderr",
          "text": [
            "/usr/local/lib/python3.11/dist-packages/keras/src/layers/core/masking.py:47: UserWarning: Do not pass an `input_shape`/`input_dim` argument to a layer. When using Sequential models, prefer using an `Input(shape)` object as the first layer in the model instead.\n",
            "  super().__init__(**kwargs)\n"
          ]
        },
        {
          "output_type": "stream",
          "name": "stdout",
          "text": [
            "\u001b[1m2/2\u001b[0m \u001b[32m━━━━━━━━━━━━━━━━━━━━\u001b[0m\u001b[37m\u001b[0m \u001b[1m1s\u001b[0m 434ms/step\n",
            "Confusion Matrix:\n",
            "[[ 1  3]\n",
            " [ 6 30]]\n",
            "Classification Report:\n",
            "              precision    recall  f1-score   support\n",
            "\n",
            "           0     0.1429    0.2500    0.1818         4\n",
            "           1     0.9091    0.8333    0.8696        36\n",
            "\n",
            "    accuracy                         0.7750        40\n",
            "   macro avg     0.5260    0.5417    0.5257        40\n",
            "weighted avg     0.8325    0.7750    0.8008        40\n",
            "\n",
            "\n",
            "📊 Average Scores Across Folds:\n",
            "Avg Accuracy       : 0.7700\n",
            "Avg Precision [0/1]: 0.1269 / 0.8827\n",
            "Avg Recall    [0/1]: 0.1700 / 0.8524\n"
          ]
        }
      ]
    },
    {
      "cell_type": "code",
      "source": [
        "import seaborn as sns\n",
        "import matplotlib.pyplot as plt\n",
        "from sklearn.metrics import confusion_matrix\n",
        "\n",
        "# Predict\n",
        "y_pred_probs = model.predict(X_val)\n",
        "y_pred = (y_pred_probs > 0.5).astype(int).flatten()\n",
        "\n",
        "# Compute confusion matrix\n",
        "cm = confusion_matrix(y_val, y_pred)\n",
        "\n",
        "# Print numeric confusion matrix\n",
        "print(\"Confusion Matrix:\")\n",
        "print(cm)\n",
        "\n",
        "# Plot confusion matrix\n",
        "plt.figure(figsize=(5, 4))\n",
        "sns.heatmap(cm, annot=True, fmt='d', cmap='Blues', xticklabels=['Pred 0', 'Pred 1'], yticklabels=['True 0', 'True 1'])\n",
        "plt.xlabel('Predicted')\n",
        "plt.ylabel('Actual')\n",
        "plt.title(f'Confusion Matrix - Fold {fold+1}')\n",
        "plt.tight_layout()\n",
        "plt.show()\n"
      ],
      "metadata": {
        "colab": {
          "base_uri": "https://localhost:8080/",
          "height": 476
        },
        "id": "c_8rLCrmDJdH",
        "outputId": "ec76f095-bb3f-4c00-9244-912bb050f1cd"
      },
      "execution_count": null,
      "outputs": [
        {
          "output_type": "stream",
          "name": "stdout",
          "text": [
            "\u001b[1m2/2\u001b[0m \u001b[32m━━━━━━━━━━━━━━━━━━━━\u001b[0m\u001b[37m\u001b[0m \u001b[1m0s\u001b[0m 46ms/step\n",
            "Confusion Matrix:\n",
            "[[ 1  3]\n",
            " [ 6 30]]\n"
          ]
        },
        {
          "output_type": "display_data",
          "data": {
            "text/plain": [
              "<Figure size 500x400 with 2 Axes>"
            ],
            "image/png": "[encoded data removed]"
          },
          "metadata": {}
        }
      ]
    }
  ]
}